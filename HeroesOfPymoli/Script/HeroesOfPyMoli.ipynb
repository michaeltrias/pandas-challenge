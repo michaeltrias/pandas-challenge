{
 "cells": [
  {
   "cell_type": "code",
   "execution_count": 5,
   "metadata": {},
   "outputs": [
    {
     "data": {
      "text/html": [
       "<div>\n",
       "<style scoped>\n",
       "    .dataframe tbody tr th:only-of-type {\n",
       "        vertical-align: middle;\n",
       "    }\n",
       "\n",
       "    .dataframe tbody tr th {\n",
       "        vertical-align: top;\n",
       "    }\n",
       "\n",
       "    .dataframe thead th {\n",
       "        text-align: right;\n",
       "    }\n",
       "</style>\n",
       "<table border=\"1\" class=\"dataframe\">\n",
       "  <thead>\n",
       "    <tr style=\"text-align: right;\">\n",
       "      <th></th>\n",
       "      <th>Total Players</th>\n",
       "    </tr>\n",
       "  </thead>\n",
       "  <tbody>\n",
       "    <tr>\n",
       "      <td>0</td>\n",
       "      <td>576</td>\n",
       "    </tr>\n",
       "  </tbody>\n",
       "</table>\n",
       "</div>"
      ],
      "text/plain": [
       "   Total Players\n",
       "0            576"
      ]
     },
     "execution_count": 5,
     "metadata": {},
     "output_type": "execute_result"
    }
   ],
   "source": [
    "import pandas as pd\n",
    "import os\n",
    "total_players_dict ={}\n",
    "\n",
    "\n",
    "csvpath = os.path.join('..',\"Resources\",\"HeroesOfPymoli_data.csv\")\n",
    "\n",
    "#csv_path = \"Resources/HeroesOfPymoli_data.csv\"\n",
    "purchase_df = pd.read_csv(csvpath)\n",
    "\n",
    "purchase_df = purchase_df.dropna()\n",
    "\n",
    "#print(purchase_df.columns)\n",
    "\n",
    "#value_df = pd.DataFrame(purchase_df[\"SN\"].value_counts())\n",
    "\n",
    "#Player Count\n",
    "total_players = (len(purchase_df[\"SN\"].value_counts()))\n",
    "total_players_df = pd.DataFrame({\"Total Players\": total_players}, index = [0])\n",
    "\n",
    "#total_players_df = pd.DataFrame.from_dict(total_players_dict)\n",
    "total_players_df\n",
    "\n"
   ]
  },
  {
   "cell_type": "code",
   "execution_count": 33,
   "metadata": {},
   "outputs": [
    {
     "data": {
      "text/html": [
       "<div>\n",
       "<style scoped>\n",
       "    .dataframe tbody tr th:only-of-type {\n",
       "        vertical-align: middle;\n",
       "    }\n",
       "\n",
       "    .dataframe tbody tr th {\n",
       "        vertical-align: top;\n",
       "    }\n",
       "\n",
       "    .dataframe thead th {\n",
       "        text-align: right;\n",
       "    }\n",
       "</style>\n",
       "<table border=\"1\" class=\"dataframe\">\n",
       "  <thead>\n",
       "    <tr style=\"text-align: right;\">\n",
       "      <th></th>\n",
       "      <th>Number of Unique Items</th>\n",
       "      <th>Average Price</th>\n",
       "      <th>Number of Purchases</th>\n",
       "      <th>Total Revenue</th>\n",
       "    </tr>\n",
       "  </thead>\n",
       "  <tbody>\n",
       "    <tr>\n",
       "      <td>0</td>\n",
       "      <td>183</td>\n",
       "      <td>3.05</td>\n",
       "      <td>780</td>\n",
       "      <td>2379.77</td>\n",
       "    </tr>\n",
       "  </tbody>\n",
       "</table>\n",
       "</div>"
      ],
      "text/plain": [
       "   Number of Unique Items  Average Price  Number of Purchases  Total Revenue\n",
       "0                     183           3.05                  780        2379.77"
      ]
     },
     "execution_count": 33,
     "metadata": {},
     "output_type": "execute_result"
    }
   ],
   "source": [
    "#print(purchase_df.columns)\n",
    "#Purchasing Analysis (Total)\n",
    "\n",
    "# number of unique items\n",
    "\n",
    "unique_items = (len(purchase_df['Item ID'].unique()))\n",
    "\n",
    "# average price\n",
    "#print(purchase_df.columns)\n",
    "grouped_item_df = purchase_df[\"Price\"]\n",
    "\n",
    "average_price = round(grouped_item_df.mean(),2)\n",
    "revenue =(grouped_item_df.sum())\n",
    "numb_purchases = (purchase_df[\"Purchase ID\"].count())\n",
    "\n",
    "#make into dataframe\n",
    "#need to add dollar sign\n",
    "purchase_analysis_df = pd.DataFrame({\"Number of Unique Items\": [unique_items],\"Average Price\": [average_price],\"Number of Purchases\": [numb_purchases],\"Total Revenue\":[revenue]})\n",
    "\n",
    "purchase_analysis_df\n"
   ]
  },
  {
   "cell_type": "code",
   "execution_count": 47,
   "metadata": {},
   "outputs": [],
   "source": [
    "#Gender Demographics\n",
    "\n",
    "gender_count = purchase_df[\"Gender\"].value_counts()\n",
    "\n",
    "total_gender = purchase_df[\"Gender\"].count()\n",
    "\n"
   ]
  },
  {
   "cell_type": "code",
   "execution_count": null,
   "metadata": {},
   "outputs": [],
   "source": []
  }
 ],
 "metadata": {
  "kernelspec": {
   "display_name": "Python 3",
   "language": "python",
   "name": "python3"
  },
  "language_info": {
   "codemirror_mode": {
    "name": "ipython",
    "version": 3
   },
   "file_extension": ".py",
   "mimetype": "text/x-python",
   "name": "python",
   "nbconvert_exporter": "python",
   "pygments_lexer": "ipython3",
   "version": "3.7.4"
  }
 },
 "nbformat": 4,
 "nbformat_minor": 2
}
